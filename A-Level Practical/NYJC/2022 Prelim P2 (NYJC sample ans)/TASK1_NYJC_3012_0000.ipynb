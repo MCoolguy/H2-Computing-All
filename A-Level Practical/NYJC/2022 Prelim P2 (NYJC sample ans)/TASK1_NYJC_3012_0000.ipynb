{
 "cells": [
  {
   "cell_type": "code",
   "execution_count": 2,
   "metadata": {},
   "outputs": [
    {
     "data": {
      "text/plain": [
       "['1', '10', '11', '100', '101', '111', '1100']"
      ]
     },
     "execution_count": 2,
     "metadata": {},
     "output_type": "execute_result"
    }
   ],
   "source": [
    "# Task 1.1\n",
    "\n",
    "def task1_1(list_of_strings):\n",
    "    # Merge sort: base case\n",
    "    if len(list_of_strings) <= 1:\n",
    "        return list_of_strings\n",
    "\n",
    "    # Split into left and right partitions\n",
    "    mid = len(list_of_strings) // 2\n",
    "    left = list_of_strings[:mid]\n",
    "    right = list_of_strings[mid:]\n",
    "    \n",
    "    # Recursively sort partitions\n",
    "    left = task1_1(left)\n",
    "    right = task1_1(right)\n",
    "    \n",
    "    # Merge by comparing first elements of left and right,\n",
    "    # Copying smaller element into separate array\n",
    "    li, ri = 0, 0  # left index and right index\n",
    "    sorted_ = []\n",
    "    while li < len(left) and ri < len(right):\n",
    "        if int(left[li]) < int(right[ri]):\n",
    "            sorted_.append(left[li])\n",
    "            li = li + 1\n",
    "        else:\n",
    "            sorted_.append(right[ri])\n",
    "            ri = ri + 1\n",
    "    while li < len(left):\n",
    "        sorted_.append(left[li])\n",
    "        li = li + 1\n",
    "    while ri < len(right):\n",
    "        sorted_.append(right[ri])\n",
    "        ri = ri + 1\n",
    "    return sorted_\n",
    "\n",
    "\n",
    "\n",
    "task1_1(['11', '101', '10', '1', '111', '1100', '100'])"
   ]
  },
  {
   "cell_type": "code",
   "execution_count": 3,
   "metadata": {},
   "outputs": [
    {
     "data": {
      "text/plain": [
       "['1',\n",
       " '8',\n",
       " '31',\n",
       " '66',\n",
       " '79',\n",
       " '88',\n",
       " '110',\n",
       " '149',\n",
       " '157',\n",
       " '228',\n",
       " '255',\n",
       " '273',\n",
       " '310',\n",
       " '404',\n",
       " '443',\n",
       " '452',\n",
       " '667',\n",
       " '1100']"
      ]
     },
     "execution_count": 3,
     "metadata": {},
     "output_type": "execute_result"
    }
   ],
   "source": [
    "# Task 1.2\n",
    "\n",
    "def task1_2(filename):\n",
    "    data = []\n",
    "    with open(filename, 'r') as f:\n",
    "        for line in f:\n",
    "            data.append(line.strip())\n",
    "    return task1_1(data)\n",
    "\n",
    "\n",
    "\n",
    "task1_2('NUMBERS.txt')"
   ]
  },
  {
   "cell_type": "code",
   "execution_count": 4,
   "metadata": {},
   "outputs": [
    {
     "name": "stdout",
     "output_type": "stream",
     "text": [
      "16\n",
      "-1\n"
     ]
    }
   ],
   "source": [
    "# Task 1.3\n",
    "\n",
    "def task1_3(list_of_sorted_strings, num: str):\n",
    "    start, end = 0, len(list_of_sorted_strings) - 1\n",
    "    while start <= end:\n",
    "        mid = (start + end) // 2\n",
    "        if int(num) < int(list_of_sorted_strings[mid]):\n",
    "            end = mid - 1\n",
    "        elif int(num) > int(list_of_sorted_strings[mid]):\n",
    "            start = mid + 1\n",
    "        elif int(num) == int(list_of_sorted_strings[mid]):\n",
    "            return mid\n",
    "    return -1\n",
    "\n",
    "\n",
    "\n",
    "print(task1_3(task1_2('NUMBERS.txt'), '667'))\n",
    "print(task1_3(task1_2('NUMBERS.txt'), '130'))"
   ]
  }
 ],
 "metadata": {
  "kernelspec": {
   "display_name": "Python 3",
   "language": "python",
   "name": "python3"
  },
  "language_info": {
   "codemirror_mode": {
    "name": "ipython",
    "version": 3
   },
   "file_extension": ".py",
   "mimetype": "text/x-python",
   "name": "python",
   "nbconvert_exporter": "python",
   "pygments_lexer": "ipython3",
   "version": "3.6.4"
  }
 },
 "nbformat": 4,
 "nbformat_minor": 2
}
