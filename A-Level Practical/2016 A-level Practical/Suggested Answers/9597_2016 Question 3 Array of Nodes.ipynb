{
 "cells": [
  {
   "cell_type": "code",
   "execution_count": 1,
   "metadata": {},
   "outputs": [],
   "source": [
    "#Task 3.1\n",
    "\n",
    "class Node:\n",
    "    # constructor()\n",
    "    def __init__(self):\n",
    "        self.data = \"\"\n",
    "        self.leftPtr = -1\n",
    "        self.rightPtr = -1\n",
    "\n",
    "    # modifier methods\n",
    "    def setData(self, s):\n",
    "        self.data = s\n",
    "\n",
    "    def setLeftPtr(self, x):\n",
    "        self.leftPtr = x\n",
    "\n",
    "    def setRightPtr(self, y):\n",
    "        self.rightPtr = y\n",
    "\n",
    "    # accessor methods\n",
    "    def getData(self):\n",
    "        return self.data\n",
    "\n",
    "    def getLeftPtr(self):\n",
    "        return self.leftPtr\n",
    "\n",
    "    def getRightPtr(self):\n",
    "        return self.rightPtr\n",
    "    \n",
    "\n",
    "class Tree:\n",
    "    # constructor()\n",
    "    def __init__(self):        \n",
    "        self.tree = [Node() for node in range(7)] #ARRAY OF Node\n",
    "        # For testing purpose, 7 nodes added to tree\n",
    "        self.root = -1\n",
    "\n",
    "    # helper method to return index of new node in tree\n",
    "    def nextNode(self):\n",
    "        index = 0\n",
    "        for node in self.tree:\n",
    "            if node.data == \"\":\n",
    "                return index\n",
    "            else:\n",
    "                index += 1            \n",
    "        \n",
    "    def add(self, newItem):\n",
    "        # add new node to the tree\n",
    "        newNode = Node()\n",
    "        newNode.setData(newItem)\n",
    "        index = self.nextNode()\n",
    "        self.tree[index] = newNode\n",
    "\n",
    "        # tree is empty        \n",
    "        if self.root == -1:\n",
    "            self.root = index \n",
    "        else:\n",
    "            # traverse the tree to update pointers\n",
    "            CurrentPosition = self.root\n",
    "            LastMove = 'X'\n",
    "            PreviousPosition = -1\n",
    "            while CurrentPosition != -1: # leaf node reached\n",
    "                PreviousPosition = CurrentPosition\n",
    "                if newItem < self.tree[CurrentPosition].data:\n",
    "                    # move left\n",
    "                    LastMove = 'L'\n",
    "                    CurrentPosition = self.tree[CurrentPosition].leftPtr\n",
    "                else:\n",
    "                    # move right\n",
    "                    LastMove = 'R'\n",
    "                    CurrentPosition = self.tree[CurrentPosition].rightPtr\n",
    "                \n",
    "            if LastMove == 'R':\n",
    "                self.tree[PreviousPosition].rightPtr = index\n",
    "            else:\n",
    "                self.tree[PreviousPosition].leftPtr = index\n",
    " \n",
    "    def print(self):\n",
    "        index = 0        \n",
    "        print(\"Index\".ljust(12)+\"Data\".ljust(8)+\"LeftPtr\".rjust(10)+\"RightPtr\".rjust(10))\n",
    "        print(\"=====\".ljust(12)+\"====\".ljust(8)+\"=======\".rjust(10)+\"========\".rjust(10))\n",
    "        for node in self.tree:\n",
    "            print(str(index).ljust(12)+self.tree[index].data.ljust(8) +\\\n",
    "                  str(self.tree[index].leftPtr).rjust(10) +\\\n",
    "                  str(self.tree[index].rightPtr).rjust(10))\n",
    "            index += 1\n",
    "\n",
    "    #Task 3.3\n",
    "    def inOrderTraversal(self, root = 0):\n",
    "        if self.tree[root].leftPtr is not -1: # LEFT\n",
    "            self.inOrderTraversal(self.tree[root].leftPtr)\n",
    "        print(self.tree[root].data) # NODE\n",
    "        if self.tree[root].rightPtr is not -1: # RIGHT\n",
    "            self.inOrderTraversal(self.tree[root].rightPtr)\n",
    "    "
   ]
  },
  {
   "cell_type": "code",
   "execution_count": 2,
   "metadata": {},
   "outputs": [
    {
     "name": "stdout",
     "output_type": "stream",
     "text": [
      "Index       Data       LeftPtr  RightPtr\n",
      "=====       ====       =======  ========\n",
      "0           Dave             4         1\n",
      "1           Fred             2         3\n",
      "2           Ed              -1        -1\n",
      "3           Greg            -1        -1\n",
      "4           Bob              6         5\n",
      "5           Cid             -1        -1\n",
      "6           Ali             -1        -1\n"
     ]
    }
   ],
   "source": [
    "#Task 3.2\n",
    "\n",
    "NewTree = Tree()\n",
    "NewTree.add(\"Dave\")\n",
    "NewTree.add(\"Fred\")\n",
    "NewTree.add(\"Ed\")\n",
    "NewTree.add(\"Greg\")\n",
    "NewTree.add(\"Bob\")\n",
    "NewTree.add(\"Cid\")\n",
    "NewTree.add(\"Ali\")\n",
    "NewTree.print()"
   ]
  },
  {
   "cell_type": "code",
   "execution_count": 3,
   "metadata": {},
   "outputs": [
    {
     "name": "stdout",
     "output_type": "stream",
     "text": [
      "Ali\n",
      "Bob\n",
      "Cid\n",
      "Dave\n",
      "Ed\n",
      "Fred\n",
      "Greg\n"
     ]
    }
   ],
   "source": [
    "#Task 3.3\n",
    "NewTree.inOrderTraversal()"
   ]
  },
  {
   "cell_type": "code",
   "execution_count": null,
   "metadata": {},
   "outputs": [],
   "source": []
  }
 ],
 "metadata": {
  "kernelspec": {
   "display_name": "Python 3",
   "language": "python",
   "name": "python3"
  },
  "language_info": {
   "codemirror_mode": {
    "name": "ipython",
    "version": 3
   },
   "file_extension": ".py",
   "mimetype": "text/x-python",
   "name": "python",
   "nbconvert_exporter": "python",
   "pygments_lexer": "ipython3",
   "version": "3.6.4"
  }
 },
 "nbformat": 4,
 "nbformat_minor": 2
}
