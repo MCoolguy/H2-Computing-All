{
 "cells": [
  {
   "cell_type": "code",
   "execution_count": 2,
   "metadata": {},
   "outputs": [
    {
     "name": "stdout",
     "output_type": "stream",
     "text": [
      "Index     ID Number\n",
      "=====     =========\n",
      "0         \n",
      "1         \n",
      "2         \n",
      "3         \n",
      "4         4\n",
      "5         \n",
      "6         \n",
      "7         7\n",
      "8         \n",
      "9         \n",
      "10        \n",
      "11        \n",
      "12        \n",
      "13        \n",
      "14        \n",
      "15        \n",
      "16        \n",
      "17        17\n",
      "18        \n",
      "19        19\n"
     ]
    }
   ],
   "source": [
    "#Task 2.1\n",
    "\n",
    "def hashfunction(IDnumber, Max):\n",
    "    Address = IDnumber % Max\n",
    "    return Address\n",
    "\n",
    "def display(hashtable):\n",
    "    index = 0\n",
    "    print(\"Index\".ljust(10)+\"ID Number\")\n",
    "    print(\"=====\".ljust(10)+\"=========\")\n",
    "    for item in hashtable:\n",
    "        print(str(index).ljust(10)+str(item))\n",
    "        index += 1\n",
    "\n",
    "#Max represents the size of hash table\n",
    "#Hash table storing up to STRING elements\n",
    "Max = 20\n",
    "hashtable = [\"\"] * Max \n",
    "\n",
    "#Read ID numbers from text file and store in hash table\n",
    "file = open(\"KEYS1.TXT\",'r')\n",
    "\n",
    "for line in file:\n",
    "    IDnumber = int(line.strip())\n",
    "    Address = hashfunction(IDnumber, Max)\n",
    "    hashtable[Address] = IDnumber\n",
    "    \n",
    "file.close()\n",
    "\n",
    "display(hashtable)\n"
   ]
  },
  {
   "cell_type": "code",
   "execution_count": 3,
   "metadata": {},
   "outputs": [
    {
     "name": "stdout",
     "output_type": "stream",
     "text": [
      "Index     ID Number\n",
      "=====     =========\n",
      "0         57\n",
      "1         77\n",
      "2         \n",
      "3         \n",
      "4         4\n",
      "5         \n",
      "6         \n",
      "7         7\n",
      "8         \n",
      "9         \n",
      "10        \n",
      "11        \n",
      "12        \n",
      "13        \n",
      "14        \n",
      "15        \n",
      "16        \n",
      "17        17\n",
      "18        37\n",
      "19        19\n"
     ]
    }
   ],
   "source": [
    "#Task 2.2\n",
    "\n",
    "Max = 20\n",
    "hashtable = [\"\"] * Max\n",
    "\n",
    "#Read ID numbers from text file and store in hash table\n",
    "file = open(\"KEYS2.TXT\",'r')\n",
    "\n",
    "for line in file:\n",
    "    IDnumber = int(line.strip())\n",
    "    Address = hashfunction(IDnumber, Max)\n",
    "    \n",
    "    while hashtable[Address] != \"\":\n",
    "        # open hashing to locate next available space\n",
    "        Address = (Address + 1) % Max\n",
    "        \n",
    "    hashtable[Address] = IDnumber\n",
    "    \n",
    "file.close()\n",
    "\n",
    "display(hashtable)"
   ]
  },
  {
   "cell_type": "code",
   "execution_count": 4,
   "metadata": {},
   "outputs": [
    {
     "name": "stdout",
     "output_type": "stream",
     "text": [
      "Index: 18\n",
      "Index: 1\n",
      "ID not found.\n"
     ]
    }
   ],
   "source": [
    "#Task 2.3\n",
    "\n",
    "def search(ID, hashtable):\n",
    "    # open hashing used to handle collisions\n",
    "    Address = hashfunction(IDnumber, Max)\n",
    "    \n",
    "    while True:\n",
    "        if hashtable[Address] == ID:\n",
    "            print(\"Index:\", Address)\n",
    "            break\n",
    "        if hashtable[Address] == \"\":\n",
    "            print(\"ID not found.\")\n",
    "            break\n",
    "        \n",
    "        Address = (Address + 1) % Max\n",
    "        \n",
    "search(37, hashtable)\n",
    "search(77, hashtable)\n",
    "search(97, hashtable)"
   ]
  },
  {
   "cell_type": "code",
   "execution_count": null,
   "metadata": {},
   "outputs": [],
   "source": []
  }
 ],
 "metadata": {
  "kernelspec": {
   "display_name": "Python 3",
   "language": "python",
   "name": "python3"
  },
  "language_info": {
   "codemirror_mode": {
    "name": "ipython",
    "version": 3
   },
   "file_extension": ".py",
   "mimetype": "text/x-python",
   "name": "python",
   "nbconvert_exporter": "python",
   "pygments_lexer": "ipython3",
   "version": "3.6.4"
  }
 },
 "nbformat": 4,
 "nbformat_minor": 2
}
