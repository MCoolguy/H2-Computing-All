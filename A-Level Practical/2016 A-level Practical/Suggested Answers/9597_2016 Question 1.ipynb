{
 "cells": [
  {
   "cell_type": "code",
   "execution_count": 2,
   "metadata": {},
   "outputs": [
    {
     "name": "stdout",
     "output_type": "stream",
     "text": [
      "Integer\t\tFrequency\n",
      "1:\t\t53\n",
      "2:\t\t42\n",
      "3:\t\t46\n",
      "4:\t\t52\n",
      "5:\t\t45\n",
      "6:\t\t49\n",
      "7:\t\t52\n",
      "8:\t\t46\n",
      "9:\t\t53\n",
      "10:\t\t53\n",
      "11:\t\t45\n",
      "12:\t\t53\n",
      "13:\t\t59\n",
      "14:\t\t57\n",
      "15:\t\t48\n",
      "16:\t\t48\n",
      "17:\t\t51\n",
      "18:\t\t47\n",
      "19:\t\t49\n",
      "20:\t\t52\n"
     ]
    }
   ],
   "source": [
    "#Task 1.1 Method 1\n",
    "\n",
    "from random import *\n",
    "\n",
    "array = [0] * 21 #Python is 0-based\n",
    "\n",
    "for i in range (1000):\n",
    "    num = randint(1,20) #includes upper limit\n",
    "    \n",
    "    array[num] += 1\n",
    "    \n",
    "print(\"Integer\\t\\tFrequency\")\n",
    "for num in range(1,21): #does not include upper limit\n",
    "    print(str(num) +\":\\t\\t\" + str(array[num]))\n"
   ]
  },
  {
   "cell_type": "code",
   "execution_count": 1,
   "metadata": {},
   "outputs": [
    {
     "name": "stdout",
     "output_type": "stream",
     "text": [
      "Integer\t\tFrequency\n",
      "1:\t\t59\n",
      "2:\t\t43\n",
      "3:\t\t50\n",
      "4:\t\t55\n",
      "5:\t\t42\n",
      "6:\t\t50\n",
      "7:\t\t49\n",
      "8:\t\t43\n",
      "9:\t\t59\n",
      "10:\t\t43\n",
      "11:\t\t58\n",
      "12:\t\t53\n",
      "13:\t\t52\n",
      "14:\t\t56\n",
      "15:\t\t46\n",
      "16:\t\t46\n",
      "17:\t\t51\n",
      "18:\t\t46\n",
      "19:\t\t40\n",
      "20:\t\t59\n"
     ]
    }
   ],
   "source": [
    "#Task 1.1 Method 2\n",
    "\n",
    "from random import *\n",
    "\n",
    "dic = dict()\n",
    "\n",
    "for i in range (1000):\n",
    "    num = randint(1,20) \n",
    "    if num not in dic:\n",
    "        dic[num] = 1\n",
    "    else:\n",
    "        dic[num] += 1\n",
    "\n",
    "print(\"Integer\\t\\tFrequency\")\n",
    "for num in range(1,21):\n",
    "    print(str(num) +\":\\t\\t\" + str(dic[num]))\n"
   ]
  },
  {
   "cell_type": "code",
   "execution_count": 3,
   "metadata": {},
   "outputs": [
    {
     "name": "stdout",
     "output_type": "stream",
     "text": [
      "Expected frequency: 50.0\n",
      "Integer\t\tFrequency\tDifference\n",
      "1:\t\t59\t\t9.0\n",
      "2:\t\t43\t\t7.0\n",
      "3:\t\t50\t\t0.0\n",
      "4:\t\t55\t\t5.0\n",
      "5:\t\t42\t\t8.0\n",
      "6:\t\t50\t\t0.0\n",
      "7:\t\t49\t\t1.0\n",
      "8:\t\t43\t\t7.0\n",
      "9:\t\t59\t\t9.0\n",
      "10:\t\t43\t\t7.0\n",
      "11:\t\t58\t\t8.0\n",
      "12:\t\t53\t\t3.0\n",
      "13:\t\t52\t\t2.0\n",
      "14:\t\t56\t\t6.0\n",
      "15:\t\t46\t\t4.0\n",
      "16:\t\t46\t\t4.0\n",
      "17:\t\t51\t\t1.0\n",
      "18:\t\t46\t\t4.0\n",
      "19:\t\t40\t\t10.0\n",
      "20:\t\t59\t\t9.0\n"
     ]
    }
   ],
   "source": [
    "#Task 1.2\n",
    "\n",
    "expectedfreq = 1000/20\n",
    "print(\"Expected frequency: \" + str(expectedfreq))\n",
    "\n",
    "print(\"Integer\\t\\tFrequency\\tDifference\")\n",
    "for num in range(1,21):\n",
    "    deviation = dic[num] - expectedfreq\n",
    "    print(str(num) + \":\\t\\t\" + str(dic[num]) + \"\\t\\t\" + str(abs(deviation)))\n",
    "\n"
   ]
  }
 ],
 "metadata": {
  "kernelspec": {
   "display_name": "Python 3",
   "language": "python",
   "name": "python3"
  },
  "language_info": {
   "codemirror_mode": {
    "name": "ipython",
    "version": 3
   },
   "file_extension": ".py",
   "mimetype": "text/x-python",
   "name": "python",
   "nbconvert_exporter": "python",
   "pygments_lexer": "ipython3",
   "version": "3.6.4"
  }
 },
 "nbformat": 4,
 "nbformat_minor": 2
}
