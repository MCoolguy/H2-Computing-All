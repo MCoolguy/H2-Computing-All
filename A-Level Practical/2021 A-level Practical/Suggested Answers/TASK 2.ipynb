{
 "cells": [
  {
   "cell_type": "code",
   "execution_count": 4,
   "metadata": {},
   "outputs": [
    {
     "name": "stdout",
     "output_type": "stream",
     "text": [
      "[1636, 3555, 3006, 653, 1665, 3865, 1447, 2568, 619, 2029]\n",
      "10\n"
     ]
    }
   ],
   "source": [
    "#Task 2.1\n",
    "\n",
    "def task2_1(filename):\n",
    "    file = open(filename, 'r')\n",
    "    numbers=[]\n",
    "    for line in file:\n",
    "        numbers.append(int(line.strip()))\n",
    "    file.close()\n",
    "    return (numbers)\n",
    "\n",
    "result = task2_1(\"TEN.txt\")\n",
    "print(result)\n",
    "print(len(result))\n",
    "#task2_1(\"HUNDRED.txt\")\n",
    "#task2_1(\"THOUSAND.txt\")\n"
   ]
  },
  {
   "cell_type": "code",
   "execution_count": 5,
   "metadata": {},
   "outputs": [
    {
     "name": "stdout",
     "output_type": "stream",
     "text": [
      "[619, 653, 1447, 1636, 1665, 2029, 2568, 3006, 3555, 3865]\n"
     ]
    }
   ],
   "source": [
    "#Task 2.2\n",
    "\n",
    "def task2_2(list_of_integers):\n",
    "    for i in range(1,len(list_of_integers)):\n",
    "        j = i-1\n",
    "        temp = list_of_integers[i]\n",
    "        while j >= 0 and temp < list_of_integers[j]:\n",
    "            list_of_integers[j+1] = list_of_integers[j]\n",
    "            j = j-1\n",
    "        list_of_integers[j+1]=temp\n",
    "    return list_of_integers\n",
    "\n",
    "print(task2_2(task2_1('TEN.txt')))        "
   ]
  },
  {
   "cell_type": "code",
   "execution_count": 6,
   "metadata": {},
   "outputs": [
    {
     "name": "stdout",
     "output_type": "stream",
     "text": [
      "[619, 653, 1447, 1636, 1665, 2029, 2568, 3006, 3555, 3865]\n"
     ]
    }
   ],
   "source": [
    "#Task 2.3\n",
    "\n",
    "def quicksort(array, first, last):\n",
    "    count = int(0)\n",
    "    low=first\n",
    "    high=last\n",
    "    separator=array[(first+last)//2]\n",
    "    while low <= high:\n",
    "        while array[low] < separator:\n",
    "            low = low+1\n",
    "            #count+=1\n",
    "        while array[high] > separator:\n",
    "            high=high-1\n",
    "            #count+=1\n",
    "        #count+=1\n",
    "        if low <= high:\n",
    "            temp = array[low]\n",
    "            array[low] = array[high]\n",
    "            array[high]= temp\n",
    "            low=low+1\n",
    "            high=high-1\n",
    "    if first < high:\n",
    "        quicksort(array, first, high)\n",
    "    if low < last:\n",
    "        quicksort(array, low, last)\n",
    "    return (array)\n",
    "\n",
    "def task2_3(list_of_integers):\n",
    "    return quicksort(list_of_integers, 0, len(list_of_integers)-1)\n",
    "    \n",
    "print(task2_3(task2_1('TEN.txt')))   "
   ]
  },
  {
   "cell_type": "code",
   "execution_count": 8,
   "metadata": {},
   "outputs": [
    {
     "name": "stdout",
     "output_type": "stream",
     "text": [
      "INSERTION SORT\n",
      "TEN NUMBERS: 0.000029\n",
      "HUNDRED NUMBERS: 0.000376\n",
      "THOUSAND NUMBERS: 0.066204\n",
      "\n",
      "QUICK SORT\n",
      "TEN NUMBERS: 0.000020\n",
      "HUNDRED NUMBERS: 0.000129\n",
      "THOUSAND NUMBERS: 0.001612\n",
      "\n",
      "When there are 10 numbers to sort, both sorts use almost the same time - 0.000019 vs 0.000016 seconds.\n",
      "When there are 100 numbers, quick sort show significant improvement over insertion sort - 0.000180 vs 0.000639 seconds.\n",
      "When there are 1000 numbers, quick sort show even more significant improvement over insertion sort - 0.002196 vs 0.099615 seconds.\n"
     ]
    }
   ],
   "source": [
    "# import the built-in library timeit \n",
    "import timeit \n",
    "\n",
    "#INSERTION SORT\n",
    "# use the function from Task 1.1 to read in 10 integers from the file TEN.txt \n",
    "t10 = task2_1('TEN.txt')\n",
    "# use the function from Task 1.1 to read in 100 integers from the file HUNDRED.txt \n",
    "t100 = task2_1('HUNDRED.txt')\n",
    "# use the function from Task 1.1 to read in 1000 integers from the file THOUSAND.txt \n",
    "t1000 = task2_1('THOUSAND.txt')\n",
    "\n",
    "# use the timeit function to call the task2_2(li) function with the 10 integer list, run this just once \n",
    "time10 = timeit.timeit(lambda: task2_2(t10), number=1)\n",
    "# use the timeit function to call the task2_2(li) function with the 10 integer list, run this just once \n",
    "time100 = timeit.timeit(lambda: task2_2(t100), number=1)\n",
    "# use the timeit function to call the task2_2(li) function with the 1000 integer list, run this just once \n",
    "time1000 = timeit.timeit(lambda: task2_2(t1000), number=1)\n",
    "\n",
    "# print out the time, in seconds\n",
    "print(\"INSERTION SORT\")\n",
    "print(\"TEN NUMBERS: {:8f}\".format(time10))\n",
    "print(\"HUNDRED NUMBERS: {:8f}\".format(time100))\n",
    "print(\"THOUSAND NUMBERS: {:8f}\".format(time1000))\n",
    "\n",
    "\n",
    "#QUICKSORT\n",
    "\n",
    "# use the timeit function to call the task2_2(li) function with the 10 integer list, run this just once \n",
    "time10 = timeit.timeit(lambda: task2_3(t10), number=1)\n",
    "# use the timeit function to call the task2_2(li) function with the 10 integer list, run this just once \n",
    "time100 = timeit.timeit(lambda: task2_3(t100), number=1)\n",
    "# use the timeit function to call the task2_2(li) function with the 1000 integer list, run this just once \n",
    "time1000 = timeit.timeit(lambda: task2_3(t1000), number=1)\n",
    "\n",
    "print()\n",
    "# print out the time, in seconds\n",
    "print(\"QUICK SORT\")\n",
    "print(\"TEN NUMBERS: {:5f}\".format(time10))\n",
    "print(\"HUNDRED NUMBERS: {:5f}\".format(time100))\n",
    "print(\"THOUSAND NUMBERS: {:5f}\".format(time1000))\n",
    "print()\n",
    "print(\"When there are 10 numbers to sort, both sorts use almost the same time - 0.000019 vs 0.000016 seconds.\")\n",
    "print(\"When there are 100 numbers, quick sort show significant improvement over insertion sort - 0.000180 vs 0.000639 seconds.\")\n",
    "print(\"When there are 1000 numbers, quick sort show even more significant improvement over insertion sort - 0.002196 vs 0.099615 seconds.\")"
   ]
  },
  {
   "cell_type": "code",
   "execution_count": null,
   "metadata": {},
   "outputs": [],
   "source": []
  }
 ],
 "metadata": {
  "kernelspec": {
   "display_name": "Python 3",
   "language": "python",
   "name": "python3"
  },
  "language_info": {
   "codemirror_mode": {
    "name": "ipython",
    "version": 3
   },
   "file_extension": ".py",
   "mimetype": "text/x-python",
   "name": "python",
   "nbconvert_exporter": "python",
   "pygments_lexer": "ipython3",
   "version": "3.6.4"
  }
 },
 "nbformat": 4,
 "nbformat_minor": 2
}
