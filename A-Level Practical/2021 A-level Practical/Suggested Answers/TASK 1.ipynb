{
 "cells": [
  {
   "cell_type": "code",
   "execution_count": 1,
   "metadata": {},
   "outputs": [
    {
     "name": "stdout",
     "output_type": "stream",
     "text": [
      "2\n",
      "2\n"
     ]
    }
   ],
   "source": [
    "#Task 1.1\n",
    "\n",
    "def task1_1(input_value):\n",
    "    if type(input_value) == int: #note the sequence of validation; type check\n",
    "        input_value = str(input_value)\n",
    "        if len(input_value) != 14: #length check\n",
    "            return -1\n",
    "    elif not input_value.isdigit() or len(input_value)!=14:\n",
    "        return -1     #invalid input_value\n",
    "    numbers = []      #initialise numbers to hold all the individual numbers\n",
    "    \n",
    "    for i in range(len(input_value)-1, -1, -1): #read digits from right to left\n",
    "        if i % 2 == 1:\n",
    "            numbers.append(2*int(input_value[i]))\n",
    "        else:\n",
    "            numbers.append(int(input_value[i]))\n",
    "    total = int(0)\n",
    "    \n",
    "    for each in numbers:\n",
    "        if each>9:\n",
    "            total = total + 1 + each % 10\n",
    "        else:\n",
    "            total = total + each\n",
    "    \n",
    "    return 10 - total%10\n",
    "\n",
    "print(task1_1(\"14576567654934\"))\n",
    "print(task1_1(14576567654934))"
   ]
  },
  {
   "cell_type": "code",
   "execution_count": 2,
   "metadata": {},
   "outputs": [
    {
     "name": "stdout",
     "output_type": "stream",
     "text": [
      "True\n",
      "True\n",
      "True\n",
      "True\n"
     ]
    }
   ],
   "source": [
    "#Task 1.2\n",
    "\n",
    "print(task1_1(\"14576567654924\")==3)\n",
    "print(task1_1(14576567654924)==3)\n",
    "print(task1_1(\"aaaaaaaaaaaaaa\")==-1)\n",
    "print(task1_1(1457656765492)==-1)"
   ]
  },
  {
   "cell_type": "code",
   "execution_count": 3,
   "metadata": {},
   "outputs": [
    {
     "name": "stdout",
     "output_type": "stream",
     "text": [
      "True\n",
      "True\n",
      "True\n",
      "True\n"
     ]
    }
   ],
   "source": [
    "#Task 1.3\n",
    "\n",
    "def task1_3(input_value):\n",
    "    if type(input_value) == int:\n",
    "        input_value = str(input_value)\n",
    "        if len(input_value) != 15:\n",
    "            return False\n",
    "    elif not input_value.isdigit() or len(input_value)!=15:\n",
    "        return False     #invalid input_value\n",
    "    checkDigit = input_value[-1]\n",
    "    input_value = input_value[:-1] #get rid of right most digit\n",
    "    calculatedCheckDigit = task1_1(input_value)\n",
    "    if int(checkDigit) == calculatedCheckDigit:\n",
    "        return True\n",
    "    return False\n",
    "\n",
    "print(task1_3(145765676549243))\n",
    "print(task1_3(\"145765676549243\"))\n",
    "print(not task1_3(\"12345r\"))\n",
    "print(not task1_3(123456789123455))"
   ]
  },
  {
   "cell_type": "code",
   "execution_count": null,
   "metadata": {},
   "outputs": [],
   "source": []
  }
 ],
 "metadata": {
  "kernelspec": {
   "display_name": "Python 3",
   "language": "python",
   "name": "python3"
  },
  "language_info": {
   "codemirror_mode": {
    "name": "ipython",
    "version": 3
   },
   "file_extension": ".py",
   "mimetype": "text/x-python",
   "name": "python",
   "nbconvert_exporter": "python",
   "pygments_lexer": "ipython3",
   "version": "3.6.4"
  }
 },
 "nbformat": 4,
 "nbformat_minor": 2
}
