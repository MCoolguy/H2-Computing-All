{
 "cells": [
  {
   "cell_type": "code",
   "execution_count": 4,
   "metadata": {},
   "outputs": [
    {
     "name": "stdout",
     "output_type": "stream",
     "text": [
      "['Day1Presentation,2019-10-23,1310', 'Day2Presentation,2019-10-23,1410', 'Day3Presentation,2019-10-23,1520', 'Day4Presentation,2019-10-23,1770', 'NotesDay1,2019-10-24,314', 'NotesDay2,2019-10-24,370', 'NotesDay3,2019-10-24,419', 'NotesDay4,2019-10-24,678', 'Exercise1Day1,2019-10-25,72', 'Exercise2Day1,2019-10-25,88', 'Exercise3Day1,2019-10-25,66', 'Exercise4Day1,2019-10-25,192', 'Exercise1Day2,2019-10-25,78', 'Exercise2Day2,2019-10-25,80', 'Exercise3Day2,2019-10-25,102', 'Exercise4Day2,2019-10-25,184', 'Exercise1Day3,2019-10-25,48', 'Exercise2Day3,2019-10-25,62', 'Exercise3Day3,2019-10-25,66']\n"
     ]
    }
   ],
   "source": [
    "#Task 2.1\n",
    "\n",
    "def quicksort(array):\n",
    "\n",
    "    pivot = len(array)//2 #middle pivot\n",
    "    smaller = array[0:pivot]\n",
    "    larger = array[pivot:]\n",
    "    \n",
    "    while len(smaller)!=1:\n",
    "        pivot = len(smaller)//2\n",
    "        smaller = \n",
    "\n",
    "def partition(array):\n",
    "    while len(array)!=1:\n",
    "        pivot = len(array)//2\n",
    "        array = array[0:pivot]\n",
    "        partition(array)\n",
    "        \n",
    "\n",
    "data  = []\n",
    "file = open(\"TESTDATA.txt\",'r')\n",
    "for line in file:\n",
    "    data.append(line.strip())\n",
    "    \n",
    "quicksort(data)\n",
    "    "
   ]
  },
  {
   "cell_type": "code",
   "execution_count": 35,
   "metadata": {},
   "outputs": [
    {
     "name": "stdout",
     "output_type": "stream",
     "text": [
      "Sorted date: [['2019-10-21', '1', 'Program3'], ['2019-10-21', '2', 'Program2'], ['2019-10-21', '3', 'Program4'], ['2019-10-21', '3', 'Program5'], ['2019-10-21', '4', 'Program1'], ['2019-10-23', '1', 'TestData1'], ['2019-10-23', '1', 'TestData2'], ['2019-10-23', '1', 'Testdata3'], ['2019-10-23', '1310', 'Day1Presentation'], ['2019-10-23', '1410', 'Day2Presentation'], ['2019-10-23', '1520', 'Day3Presentation'], ['2019-10-23', '1770', 'Day4Presentation'], ['2019-10-23', '2', 'TestData4'], ['2019-10-23', '2', 'TestData5'], ['2019-10-24', '10', 'Results1'], ['2019-10-24', '10', 'Results2'], ['2019-10-24', '10', 'Results3'], ['2019-10-24', '24', 'Results4'], ['2019-10-24', '26', 'Results5'], ['2019-10-24', '314', 'NotesDay1'], ['2019-10-24', '370', 'NotesDay2'], ['2019-10-24', '419', 'NotesDay3'], ['2019-10-24', '678', 'NotesDay4'], ['2019-10-25', '102', 'Exercise3Day2'], ['2019-10-25', '108', 'Exercise2Day4'], ['2019-10-25', '134', 'Exercise4Day4'], ['2019-10-25', '184', 'Exercise4Day2'], ['2019-10-25', '192', 'Exercise4Day1'], ['2019-10-25', '232', 'Exercise4Day3'], ['2019-10-25', '48', 'Exercise1Day3'], ['2019-10-25', '54', 'Exercise3Day4'], ['2019-10-25', '62', 'Exercise2Day3'], ['2019-10-25', '66', 'Exercise3Day1'], ['2019-10-25', '66', 'Exercise3Day3'], ['2019-10-25', '72', 'Exercise1Day1'], ['2019-10-25', '78', 'Exercise1Day2'], ['2019-10-25', '80', 'Exercise2Day2'], ['2019-10-25', '88', 'Exercise2Day1'], ['2019-10-25', '98', 'Exercise1Day4']]\n",
      "\n",
      "File name contained in file: ('Day1Presentation', '1310')\n",
      "File name not contained in file: no files were found with given name\n",
      "File was modified on given date: [('TestData1', '2019-10-23'), ('TestData2', '2019-10-23'), ('Testdata3', '2019-10-23'), ('Day1Presentation', '2019-10-23'), ('Day2Presentation', '2019-10-23'), ('Day3Presentation', '2019-10-23'), ('Day4Presentation', '2019-10-23'), ('TestData4', '2019-10-23'), ('TestData5', '2019-10-23')]\n",
      "File was not modified on given date: not files were modified on given date\n"
     ]
    }
   ],
   "source": [
    "#Task 2.2\n",
    "def bubblesort(array): # Bubble sorting algorithm\n",
    "    for i in range(1,len(array)):\n",
    "        for j in range(0,len(array)):\n",
    "            if array[i]<array[j]:\n",
    "                array[i],array[j] = array[j],array[i]\n",
    "    return array\n",
    "\n",
    "data  = []\n",
    "file = open(\"TESTDATA.txt\",'r')\n",
    "for line in file:\n",
    "    data.append(line.strip())\n",
    "\n",
    "newdata = []\n",
    "\n",
    "for count in range(len(data)):\n",
    "    name,date,size = data[count].split(',')\n",
    "    newdata.append([date,size,name])\n",
    "    \n",
    "bubblesort(newdata)\n",
    "\n",
    "def filesearch(filename):\n",
    "    for count in range(len(newdata)):\n",
    "        if newdata[count][2] == filename:\n",
    "            return filename,newdata[count][1]\n",
    "    return \"no files were found with given name\"\n",
    "\n",
    "def datesearch(date):\n",
    "    allfiles = []\n",
    "    found = False \n",
    "    for count in range(len(newdata)):\n",
    "        if newdata[count][0] == date:\n",
    "            found =True\n",
    "            allfiles.append((newdata[count][2],date))\n",
    "    \n",
    "    if found==False:\n",
    "        return \"not files were modified on given date\"\n",
    "    else:\n",
    "        return allfiles\n",
    "\n",
    "print(\"Sorted date: \" + str(newdata))\n",
    "print()\n",
    "print(\"File name contained in file: \" + str(filesearch(\"Day1Presentation\")))\n",
    "print(\"File name not contained in file: \" + str(filesearch(\"Day10Presentation\")))\n",
    "\n",
    "print(\"File was modified on given date: \" + str(datesearch(\"2019-10-23\")))\n",
    "print(\"File was not modified on given date: \" + str(datesearch(\"2020-10-23\")))"
   ]
  },
  {
   "cell_type": "code",
   "execution_count": null,
   "metadata": {},
   "outputs": [],
   "source": []
  }
 ],
 "metadata": {
  "kernelspec": {
   "display_name": "Python 3",
   "language": "python",
   "name": "python3"
  },
  "language_info": {
   "codemirror_mode": {
    "name": "ipython",
    "version": 3
   },
   "file_extension": ".py",
   "mimetype": "text/x-python",
   "name": "python",
   "nbconvert_exporter": "python",
   "pygments_lexer": "ipython3",
   "version": "3.6.4"
  }
 },
 "nbformat": 4,
 "nbformat_minor": 2
}
