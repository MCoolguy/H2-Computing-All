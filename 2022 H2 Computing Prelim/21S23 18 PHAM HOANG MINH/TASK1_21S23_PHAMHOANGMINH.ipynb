{
 "cells": [
  {
   "cell_type": "code",
   "execution_count": 5,
   "metadata": {},
   "outputs": [
    {
     "name": "stdout",
     "output_type": "stream",
     "text": [
      "9\n",
      "-1\n"
     ]
    }
   ],
   "source": [
    "def JumpSearch(arr,x,m): #Iterative\n",
    "    arraylength = len(arr) #returns length of the array\n",
    "    for index in range(arraylength):\n",
    "        if arr[index] == x: #check if first index is x\n",
    "            return index \n",
    "        else:\n",
    "            count = 0\n",
    "            while arr[count*m]<x==False and x<arr[(count+1)*m]==False:\n",
    "                count +=1\n",
    "                if count>len(arr)%m:\n",
    "                    break\n",
    "            for index2 in range(count*m,(count+1)*m): #Linear search between the range\n",
    "                if arr[index2]==x:\n",
    "                    return index2\n",
    "                \n",
    "    return -1\n",
    "\n",
    "arr=[0,1,2,3,5,8,13,21,34,55,89,144,233,377,610,999]\n",
    "print(JumpSearch(arr,55,4)) #Case 1\n",
    "print(JumpSearch(arr,1000,4)) #Case 2"
   ]
  },
  {
   "cell_type": "code",
   "execution_count": null,
   "metadata": {},
   "outputs": [],
   "source": [
    "def JumpSearch(arr,x,m,currentLastIndex) #Recursive\n",
    "    count = 0\n",
    "    while True:\n",
    "        if arr[currentLastIndex+1]<x:\n",
    "            return currentLastIndex\n",
    "        else:\n",
    "            count = (count+1)*m\n",
    "            JumpSearch(arr,x,m,currentLastIndex)\n",
    "            "
   ]
  }
 ],
 "metadata": {
  "kernelspec": {
   "display_name": "Python 3",
   "language": "python",
   "name": "python3"
  },
  "language_info": {
   "codemirror_mode": {
    "name": "ipython",
    "version": 3
   },
   "file_extension": ".py",
   "mimetype": "text/x-python",
   "name": "python",
   "nbconvert_exporter": "python",
   "pygments_lexer": "ipython3",
   "version": "3.6.4"
  }
 },
 "nbformat": 4,
 "nbformat_minor": 2
}
