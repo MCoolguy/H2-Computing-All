{
 "cells": [
  {
   "cell_type": "code",
   "execution_count": null,
   "metadata": {},
   "outputs": [],
   "source": [
    "import sqlite3\n",
    "\n",
    "\n",
    "\n",
    "class School:\n",
    "    def __init__(self,id,name=,zone=):\n",
    "        self.id = id\n",
    "        self.name = name\n",
    "        self.zone = zone\n",
    "        \n",
    "    def getname(self):\n",
    "        return self.name\n",
    "    \n",
    "    def getid(self):\n",
    "        return self.id\n",
    "    \n",
    "    def getzone(self):\n",
    "        return self.zone\n",
    "    \n",
    "    def safe_name():\n",
    "        for index in self.name:\n",
    "            if self.name[index]=\" \":\n",
    "                self.name[index] =\"_\"\n",
    "            if self.name[index]==\"'\" or \".\" or \",\":\n",
    "                self.name[index] =\"\"\n",
    "        return self.name\n",
    "    \n",
    "    def as_record():\n",
    "        pass\n",
    "    \n",
    "    \n",
    "class PrimarySchool(School):\n",
    "    def __init__(self,id,name,zone,level,YearsOfStudy):\n",
    "        super().__init__(self,id,name,zone,level,YearOfStudy):\n",
    "            self.level = \"primary\"\n",
    "            self.YearOfStudy = 6\n",
    "            \n",
    "    def as_record():\n",
    "        pass\n",
    "    \n",
    "class SecondarySchool(School):\n",
    "    def __init__(self,id,name,zone,level,YearsOfStudy):\n",
    "        super().__init__(self,id,name,zone,level,YearOfStudy):\n",
    "            self.level = \"secondary\"\n",
    "            self.YearOfStudy = 4\n",
    "            \n",
    "    def as_record():\n",
    "        pass\n",
    "    \n",
    "class JuniorCollege(School):\n",
    "    def __init__(self,id,name,zone,level,YearsOfStudy):\n",
    "        super().__init__(self,id,name,zone,level,YearOfStudy):\n",
    "            self.level = \"junior college\"\n",
    "            self.YearOfStudy = 2\n",
    "            \n",
    "    def as_record():\n",
    "        pass\n",
    "\n",
    "    \n",
    "        "
   ]
  },
  {
   "cell_type": "code",
   "execution_count": 46,
   "metadata": {},
   "outputs": [
    {
     "ename": "OperationalError",
     "evalue": "no such table: School",
     "output_type": "error",
     "traceback": [
      "\u001b[1;31m---------------------------------------------------------------------------\u001b[0m",
      "\u001b[1;31mOperationalError\u001b[0m                          Traceback (most recent call last)",
      "\u001b[1;32m<ipython-input-46-4926dbd10352>\u001b[0m in \u001b[0;36m<module>\u001b[1;34m()\u001b[0m\n\u001b[0;32m     11\u001b[0m \u001b[1;32mfor\u001b[0m \u001b[0mi\u001b[0m \u001b[1;32min\u001b[0m \u001b[0mrange\u001b[0m\u001b[1;33m(\u001b[0m\u001b[0mlen\u001b[0m\u001b[1;33m(\u001b[0m\u001b[0mschools\u001b[0m\u001b[1;33m)\u001b[0m\u001b[1;33m-\u001b[0m\u001b[1;36m1\u001b[0m\u001b[1;33m)\u001b[0m\u001b[1;33m:\u001b[0m\u001b[1;33m\u001b[0m\u001b[0m\n\u001b[0;32m     12\u001b[0m     \u001b[0mschoolid\u001b[0m\u001b[1;33m,\u001b[0m\u001b[0mname\u001b[0m\u001b[1;33m,\u001b[0m\u001b[0mzone\u001b[0m\u001b[1;33m,\u001b[0m\u001b[0mlevel\u001b[0m\u001b[1;33m=\u001b[0m \u001b[0mschools\u001b[0m\u001b[1;33m[\u001b[0m\u001b[0mi\u001b[0m\u001b[1;33m]\u001b[0m\u001b[1;33m.\u001b[0m\u001b[0msplit\u001b[0m\u001b[1;33m(\u001b[0m\u001b[1;34m','\u001b[0m\u001b[1;33m)\u001b[0m\u001b[1;33m\u001b[0m\u001b[0m\n\u001b[1;32m---> 13\u001b[1;33m     \u001b[0mconnection\u001b[0m\u001b[1;33m.\u001b[0m\u001b[0mexecute\u001b[0m\u001b[1;33m(\u001b[0m\u001b[1;34m\"INSERT INTO School(SchoolID) Values(1)\"\u001b[0m\u001b[1;33m)\u001b[0m\u001b[1;33m\u001b[0m\u001b[0m\n\u001b[0m\u001b[0;32m     14\u001b[0m     \u001b[1;31m#connection.execute(''\"INSERT INTO School(SchoolID,Name,Zone,Level) VALUES(\" + str(schoolid)+','+str(name)+','+str(zone)+','+str(level)+');' )\u001b[0m\u001b[1;33m\u001b[0m\u001b[1;33m\u001b[0m\u001b[0m\n\u001b[0;32m     15\u001b[0m \u001b[1;33m\u001b[0m\u001b[0m\n",
      "\u001b[1;31mOperationalError\u001b[0m: no such table: School"
     ]
    }
   ],
   "source": [
    "import sqlite3 \n",
    "connection = sqlite3.connect('schools.db')\n",
    "file = open(\"school_info.csv\",'r')\n",
    "file.readline()\n",
    "schools = []\n",
    "for line in file:\n",
    "    schools.append(line.strip())\n",
    "schools[247]='248,\"SCHOOL OF SCIENCE AND TECHNOLOGY SINGAPORE\",WEST,SECONDARY' #anomaly\n",
    "schools[248]='249,\"SCHOOL OF THE ARTS SINGAPORE\",SOUTH,MIXED LEVELS' #anomaly\n",
    "\n",
    "for i in range(len(schools)-1):\n",
    "    schoolid,name,zone,level= schools[i].split(',')\n",
    "    school = School(schoolid,name,zone)\n",
    "    connection.execute(''\"INSERT INTO School(SchoolID,Name,Zone,Level) VALUES(\" + str(schoolid)+','+str(name)+','+str(zone)+','+str(level)+');' )\n",
    " \n",
    "connection.commit()"
   ]
  },
  {
   "cell_type": "code",
   "execution_count": null,
   "metadata": {},
   "outputs": [],
   "source": [
    "file = open(\"subjects_offered.csv\",'r')\n",
    "file.readline()\n",
    "subjects= []\n",
    "\n",
    "for line in file:\n",
    "    subjects.append(line.strip())\n",
    "    \n",
    "for i in range(len(subjects)-1):\n",
    "    schoolid,desc = subjects[i].split(',')\n",
    "    print(schoolid)\n",
    "    \n",
    "\n"
   ]
  },
  {
   "cell_type": "code",
   "execution_count": null,
   "metadata": {},
   "outputs": [],
   "source": []
  }
 ],
 "metadata": {
  "kernelspec": {
   "display_name": "Python 3",
   "language": "python",
   "name": "python3"
  },
  "language_info": {
   "codemirror_mode": {
    "name": "ipython",
    "version": 3
   },
   "file_extension": ".py",
   "mimetype": "text/x-python",
   "name": "python",
   "nbconvert_exporter": "python",
   "pygments_lexer": "ipython3",
   "version": "3.6.4"
  }
 },
 "nbformat": 4,
 "nbformat_minor": 2
}
