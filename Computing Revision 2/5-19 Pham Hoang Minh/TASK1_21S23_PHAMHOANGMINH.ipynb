{
 "cells": [
  {
   "cell_type": "code",
   "execution_count": null,
   "metadata": {},
   "outputs": [],
   "source": []
  },
  {
   "cell_type": "code",
   "execution_count": 5,
   "metadata": {},
   "outputs": [
    {
     "name": "stdout",
     "output_type": "stream",
     "text": [
      "579\n"
     ]
    }
   ],
   "source": [
    "class Stack:\n",
    "    def __init__(self,lst):\n",
    "        self.lst = lst\n",
    "        self.pointer = 0 #points to last element\n",
    "    \n",
    "    def push(self,item):\n",
    "        self.lst.append(item)\n",
    "        self.pointer += 1\n",
    "        return\n",
    "    \n",
    "    def pop(self):\n",
    "        self.lst.pop(self.pointer)\n",
    "        \n",
    "        \n",
    "\n",
    "def calculate_1(exp):\n",
    "    num=\"\"\n",
    "    result = 0\n",
    "    for i in range(len(exp)-1):\n",
    "        if exp[i].isdigit():\n",
    "            num +=exp[i]\n",
    "        if exp[i]==\"+\":\n",
    "            result = int(num) +int(exp[(i+1):])\n",
    "    return result\n",
    "\n",
    "print(calculate_1(\"123+456\"))\n",
    "            \n",
    "            \n",
    "            \n",
    "            "
   ]
  },
  {
   "cell_type": "code",
   "execution_count": 7,
   "metadata": {},
   "outputs": [
    {
     "data": {
      "text/plain": [
       "0"
      ]
     },
     "execution_count": 7,
     "metadata": {},
     "output_type": "execute_result"
    }
   ],
   "source": [
    "def calculate_2(exp):\n",
    "    num=\"\"\n",
    "    num2 = \"\"\n",
    "    result = 0\n",
    "    for i in range(len(exp)-1):\n",
    "        if exp[i] ==('('):\n",
    "            while exp[i]!=(')'):\n",
    "                while exp[i].isdigit():\n",
    "                    num += exp[i]\n",
    "                if exp[i] == \"+\":\n",
    "                    while exp[i]!=\"+\" or '-':\n",
    "                        num2 += exp[i]\n",
    "                        result = int(num)+int(num2)\n",
    "    return result\n",
    "\n",
    "calculate_2(\"123-456+789\")\n",
    "\n",
    "\n",
    "    "
   ]
  },
  {
   "cell_type": "code",
   "execution_count": null,
   "metadata": {},
   "outputs": [],
   "source": []
  }
 ],
 "metadata": {
  "kernelspec": {
   "display_name": "Python 3",
   "language": "python",
   "name": "python3"
  },
  "language_info": {
   "codemirror_mode": {
    "name": "ipython",
    "version": 3
   },
   "file_extension": ".py",
   "mimetype": "text/x-python",
   "name": "python",
   "nbconvert_exporter": "python",
   "pygments_lexer": "ipython3",
   "version": "3.6.4"
  }
 },
 "nbformat": 4,
 "nbformat_minor": 2
}
