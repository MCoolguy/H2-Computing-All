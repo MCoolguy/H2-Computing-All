{
 "cells": [
  {
   "cell_type": "code",
   "execution_count": 2,
   "metadata": {},
   "outputs": [],
   "source": [
    "def string_value(s):\n",
    "    total = 0\n",
    "    for i in range(0,len(s)-1):\n",
    "        total += ord(s[i])\n",
    "    return total\n",
    "\n"
   ]
  },
  {
   "cell_type": "code",
   "execution_count": 20,
   "metadata": {},
   "outputs": [],
   "source": [
    "class Queue():\n",
    "    def __init__(self):\n",
    "        self.q = []\n",
    "\n",
    "    def enqueue(self, data):\n",
    "        self.q.append(data)\n",
    "\n",
    "    def remove(self):\n",
    "        first =self.q[0]\n",
    "        self.q = self.q[1:]\n",
    "        return first\n",
    "\n",
    "    def display(self):\n",
    "        for item in self.q:\n",
    "            print(item)\n",
    "\n",
    "    def empty(self):\n",
    "        if len(self.q) == 0:\n",
    "            return True\n",
    "        else:\n",
    "            return False"
   ]
  },
  {
   "cell_type": "code",
   "execution_count": 41,
   "metadata": {},
   "outputs": [],
   "source": [
    "#Task 2.3\n",
    "class Node:\n",
    "    def __init__(self,data):\n",
    "        self.data = data\n",
    "        self.left = None\n",
    "        self.right = None\n",
    "        \n",
    "class BST:\n",
    "    def __init__(self):\n",
    "        #The BST is empty when initialised\n",
    "        #Constructor method\n",
    "        self.root = None\n",
    "            \n",
    "    def inserthelper(self,data,cur_node):\n",
    "        if data>cur_node.data:\n",
    "            if cur_node.right ==None:\n",
    "                cur_node.right = Node(data)\n",
    "            else:\n",
    "                self.inserthelper(data,cur_node.right)\n",
    "                \n",
    "        elif data<cur_node.data:\n",
    "            if cur_node.left ==None:\n",
    "                cur_node.left = Node(data)\n",
    "            else:\n",
    "                self.inserthelper(data,cur_node.left)\n",
    "        \n",
    "        elif data==cur_node:\n",
    "            return None\n",
    "        \n",
    "    def insert(self,s):\n",
    "        if self.root == None:\n",
    "            self.root = Node(s)\n",
    "        else:\n",
    "            self.inserthelper(s,self.root)\n",
    "            \n",
    "    def in_order_lst(self):\n",
    "        if self.root ==None:\n",
    "            print(\"Empty Tree\")\n",
    "        \n",
    "    \n",
    "    def level_order_traversal(self):\n",
    "        if self.root == None:\n",
    "            print(\"Empty Tree!\")\n",
    "        \n",
    "        q = Queue()\n",
    "        q.enqueue(self.root)\n",
    "        while q.empty()==False:\n",
    "            removed_node = q.remove()\n",
    "            print(removed_node.data)\n",
    "            if removed_node.left!=None:\n",
    "                q.enqueue(removed_node.left)\n",
    "            if removed_node.right!=None:\n",
    "                q.enqueue(removed_node.right)\n",
    "            \n",
    "        return q.display() #displays tree\n",
    "    "
   ]
  },
  {
   "cell_type": "code",
   "execution_count": 42,
   "metadata": {},
   "outputs": [
    {
     "name": "stdout",
     "output_type": "stream",
     "text": [
      "Low Hwee Miang\n",
      "Lai Wai Liang\n",
      "Ng Zhifeng\n",
      "Liu Weiling\n",
      "Tan Si Jie\n",
      "Sandra Chelvan\n",
      "None\n"
     ]
    }
   ],
   "source": [
    "Tree = BST()\n",
    "file = open(\"Task2_Data.txt\",'r')\n",
    "data = []\n",
    "for line in file:\n",
    "    data.append(line.strip())\n",
    "    \n",
    "for i in range(len(data)-1):\n",
    "    Tree.insert(data[i])\n",
    "    \n",
    "print(Tree.in_order_list())    \n",
    "print(Tree.level_order_traversal())\n",
    "\n",
    "file.close()"
   ]
  },
  {
   "cell_type": "code",
   "execution_count": null,
   "metadata": {},
   "outputs": [],
   "source": []
  }
 ],
 "metadata": {
  "kernelspec": {
   "display_name": "Python 3",
   "language": "python",
   "name": "python3"
  },
  "language_info": {
   "codemirror_mode": {
    "name": "ipython",
    "version": 3
   },
   "file_extension": ".py",
   "mimetype": "text/x-python",
   "name": "python",
   "nbconvert_exporter": "python",
   "pygments_lexer": "ipython3",
   "version": "3.6.4"
  }
 },
 "nbformat": 4,
 "nbformat_minor": 2
}
