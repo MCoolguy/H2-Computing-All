{
 "cells": [
  {
   "cell_type": "code",
   "execution_count": 22,
   "metadata": {},
   "outputs": [
    {
     "name": "stdout",
     "output_type": "stream",
     "text": [
      "['admin', 'bruh_moments', 'entertainment', 'local', 'movies', 'test2', 'test_info']\n",
      "Collection(Database(MongoClient(host=['127.0.0.1:27017'], document_class=dict, tz_aware=False, connect=True), 'entertainment'), 'movies')\n"
     ]
    }
   ],
   "source": [
    "import pymongo\n",
    "import json\n",
    "\n",
    "#client=pymongo.MongoClient(\"127.0.0.1\",27017)\n",
    "#with open('movies.json') as file :\n",
    "#    data = json.load(file)\n",
    "#db = client.get_database(\"entertainment\")\n",
    "#print(\"beginning databases: \",db.collection_names())\n",
    "#if \"movies\" in db.collection_names():\n",
    "#    db.drop_collection(\"movies\")\n",
    "#    db = client.get_database(\"movies\")\n",
    "#coll = db.get_collection(\"movies\")\n",
    "#db.coll.insert_many(data)\n",
    "def connectDB():\n",
    "    client=pymongo.MongoClient(\"127.0.0.1\",27017)\n",
    "    \n",
    "def displayDBs():\n",
    "    #chooseDB(\"entertainment\")\n",
    "    db = client.database_names()\n",
    "    print(db)\n",
    "\n",
    "def chooseDB(name):\n",
    "    db = client.get_database(name)\n",
    "    return db\n",
    "    \n",
    "def displayCollections(collect):\n",
    "    db = chooseDB(\"entertainment\")\n",
    "    coldata = db.get_collection(collect)\n",
    "    return coldata\n",
    "    \n",
    "def readJson(filename):\n",
    "    with open(filename) as file :\n",
    "        data = json.load(file)\n",
    "    return data\n",
    "\n",
    "def insert(col):\n",
    "    db = chooseDB(\"entertainment\")\n",
    "    if col in db.collection_names():\n",
    "        db.drop_collection(col)\n",
    "    coll = db.get_collection(col)\n",
    "    coll.insert_many(readJson(\"movies.json\"))\n",
    "    \n",
    "def quitdbs():    \n",
    "    client.close()\n",
    "    \n",
    "##main program\n",
    "connectDB()\n",
    "displayDBs()\n",
    "chooseDB(\"entertainment\")\n",
    "readJson(\"movies.json\")\n",
    "insert(\"movies\")\n",
    "print(displayCollections(\"movies\"))\n",
    "quitdbs()\n",
    "\n",
    "\n",
    "\n",
    "\n"
   ]
  },
  {
   "cell_type": "code",
   "execution_count": 42,
   "metadata": {},
   "outputs": [
    {
     "name": "stdout",
     "output_type": "stream",
     "text": [
      "['admin', 'bruh_moments', 'entertainment', 'local', 'movies', 'test2', 'test_info']\n",
      "{'title': '10 Little Cows', 'author': 'Colin Tai', 'genre': ['Children', 'Humour']}\n",
      "{'title': 'Mary and her Little Lamb', 'author': 'Judy Khoo', 'genre': ['Horror']}\n",
      "{'title': 'Rambo & Juliet', 'author': 'Lester Moh', 'genre': ['Action', 'Romance']}\n",
      "{'title': 'Romance of the 10 Kingdoms', 'author': 'Fang Bixiang', 'genre': ['History', 'Romance']}\n",
      "{'title': 'Two Tones of Grey', 'author': 'Bob. White', 'genre': ['R21', 'Documentary']}\n",
      "{'title': 'Funs of the Peruvian Forest', 'author': 'Perry Peru', 'genre': ['Documentary']}\n",
      "{'title': 'Cooking Around the World', 'author': 'Yan Kan Khoo'}\n"
     ]
    }
   ],
   "source": [
    "import pymongo, json\n",
    "\n",
    "client = pymongo.MongoClient(\"127.0.0.1\",27017)\n",
    "db = client.database_names()\n",
    "print(db)\n",
    "if \"entertainment\" in db:\n",
    "    client.drop_database(\"entertainment\")\n",
    "    \n",
    "db = client.get_database(\"entertainment\")\n",
    "col = db.get_collection(\"movies\")\n",
    "\n",
    "with open(\"movies.json\")as file:\n",
    "    data = json.load(file)\n",
    "    \n",
    "col.insert_many(data)\n",
    "result = col.find({},{\"_id\":0})\n",
    "for row in result:\n",
    "    print(row)\n",
    "#print(result)\n",
    "#print(data)\n",
    "client.close()"
   ]
  },
  {
   "cell_type": "code",
   "execution_count": null,
   "metadata": {},
   "outputs": [],
   "source": [
    "d"
   ]
  }
 ],
 "metadata": {
  "kernelspec": {
   "display_name": "Python 3",
   "language": "python",
   "name": "python3"
  },
  "language_info": {
   "codemirror_mode": {
    "name": "ipython",
    "version": 3
   },
   "file_extension": ".py",
   "mimetype": "text/x-python",
   "name": "python",
   "nbconvert_exporter": "python",
   "pygments_lexer": "ipython3",
   "version": "3.6.4"
  }
 },
 "nbformat": 4,
 "nbformat_minor": 2
}
