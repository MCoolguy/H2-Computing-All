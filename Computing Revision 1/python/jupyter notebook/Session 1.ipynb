{
 "cells": [
  {
   "cell_type": "markdown",
   "metadata": {},
   "source": []
  },
  {
   "cell_type": "code",
   "execution_count": 3,
   "metadata": {},
   "outputs": [
    {
     "name": "stdout",
     "output_type": "stream",
     "text": [
      "Enter your name: , Enter '0' to exitminn\n",
      "Enter your steps: , Enter '0' to exit200\n",
      "Enter your name: , Enter '0' to exit0\n",
      "Last week,  was 'Star of the Week' with 0 steps taken.\n",
      "This week, minn is 'Star of the Week' with 200 steps taken.\n"
     ]
    }
   ],
   "source": [
    "starsteps = 0\n",
    "starname = \"\"\n",
    "def validatesteps(steps):\n",
    "    if steps.isdigit() == True:\n",
    "        if int(steps) >= 0 and int(steps)<100000:\n",
    "            return True\n",
    "    return False\n",
    "def Validatename(name):\n",
    "    return len(name) != 0\n",
    "\n",
    "for i in range(0,3):\n",
    "    name = input(\"Enter your name: , Enter '0' to exit\")\n",
    "    while Validatename(name)!=True:\n",
    "        name = input(\"Enter your name: \")\n",
    "    if name =='0':\n",
    "        break  \n",
    "    steps = input(\"Enter your steps: , Enter '0' to exit\")\n",
    "    while validatesteps(steps)!=True:\n",
    "        steps = input(\"Enter your steps: , Enter '0' to exit\")\n",
    "    if steps == '0':\n",
    "        break\n",
    "    if int(steps) > int(starsteps) :\n",
    "        starsteps = int(steps)\n",
    "        starname = name\n",
    "\n",
    "\n",
    "file = open(\"STAR.txt\",\"r\")\n",
    "for line in file:\n",
    "    line = line.strip()\n",
    "    name,steps = line.split(\",\")\n",
    "print(\"Last week, \" + name + \" was 'Star of the Week' with \" + str(steps) +\" steps taken.\")\n",
    "print(\"This week, \" + starname + \" is 'Star of the Week' with \" + str(starsteps) +\" steps taken.\")\n",
    "file.close()\n",
    "\n",
    "filew = open(\"STAR.txt\",\"w\")\n",
    "filew.write(starname + \",\" + str(starsteps))\n",
    "filew.close()"
   ]
  },
  {
   "cell_type": "code",
   "execution_count": null,
   "metadata": {},
   "outputs": [],
   "source": []
  },
  {
   "cell_type": "code",
   "execution_count": null,
   "metadata": {},
   "outputs": [],
   "source": []
  }
 ],
 "metadata": {
  "kernelspec": {
   "display_name": "Python 3",
   "language": "python",
   "name": "python3"
  },
  "language_info": {
   "codemirror_mode": {
    "name": "ipython",
    "version": 3
   },
   "file_extension": ".py",
   "mimetype": "text/x-python",
   "name": "python",
   "nbconvert_exporter": "python",
   "pygments_lexer": "ipython3",
   "version": "3.8.5"
  }
 },
 "nbformat": 4,
 "nbformat_minor": 4
}
