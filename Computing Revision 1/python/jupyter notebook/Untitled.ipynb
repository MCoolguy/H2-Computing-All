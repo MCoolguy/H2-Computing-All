{
 "cells": [
  {
   "cell_type": "code",
   "execution_count": 1,
   "metadata": {},
   "outputs": [
    {
     "ename": "IndentationError",
     "evalue": "expected an indented block (<ipython-input-1-0c024bbbb568>, line 2)",
     "output_type": "error",
     "traceback": [
      "\u001b[1;36m  File \u001b[1;32m\"<ipython-input-1-0c024bbbb568>\"\u001b[1;36m, line \u001b[1;32m2\u001b[0m\n\u001b[1;33m    model = torch.hub.load('pytorch/vision:v0.6.0', 'deeplabv3_resnet101', pretrained=True)\u001b[0m\n\u001b[1;37m    ^\u001b[0m\n\u001b[1;31mIndentationError\u001b[0m\u001b[1;31m:\u001b[0m expected an indented block\n"
     ]
    }
   ],
   "source": [
    "def load_model():\n",
    "model = torch.hub.load('pytorch/vision:v0.6.0', 'deeplabv3_resnet101', pretrained=True)\n",
    "model.eval()\n",
    "return model\n",
    "\n",
    "def make_transparent_foreground(pic, mask):\n",
    "# split the image into channels\n",
    "b, g, r = cv2.split(np.array(pic).astype('uint8'))\n",
    "# add an alpha channel with and fill all with transparent pixels (max 255)\n",
    "a = np.ones(mask.shape, dtype='uint8') * 255\n",
    "# merge the alpha channel back\n",
    "alpha_im = cv2.merge([b, g, r, a], 4)\n",
    "# create a transparent background\n",
    "bg = np.zeros(alpha_im.shape)\n",
    "# setup the new mask\n",
    "new_mask = np.stack([mask, mask, mask, mask], axis=2)\n",
    "# copy only the foreground color pixels from the original image where mask is set\n",
    "foreground = np.where(new_mask, alpha_im, bg).astype(np.uint8)\n",
    "\n",
    "return foreground\n",
    "\n",
    "def remove_background(model, input_file):\n",
    "input_image = Image.open(input_file)\n",
    "preprocess = transforms.Compose([\n",
    "transforms.ToTensor(),\n",
    "transforms.Normalize(mean=[0.485, 0.456, 0.406], std=[0.229, 0.224, 0.225]),\n",
    "])\n",
    "\n",
    "input_tensor = preprocess(input_image)\n",
    "input_batch = input_tensor.unsqueeze(0) # create a mini-batch as expected by the model\n",
    "\n",
    "# move the input and model to GPU for speed if available\n",
    "if torch.cuda.is_available():\n",
    "input_batch = input_batch.to('cuda')\n",
    "model.to('cuda')\n",
    "\n",
    "with torch.no_grad():\n",
    "output = model(input_batch)['out'][0]\n",
    "output_predictions = output.argmax(0)\n",
    "\n",
    "# create a binary (black and white) mask of the profile foreground\n",
    "mask = output_predictions.byte().cpu().numpy()\n",
    "background = np.zeros(mask.shape)\n",
    "bin_mask = np.where(mask, 255, background).astype(np.uint8)\n",
    "\n",
    "foreground = make_transparent_foreground(input_image ,bin_mask)\n",
    "\n",
    "return foreground, bin_mask"
   ]
  },
  {
   "cell_type": "code",
   "execution_count": null,
   "metadata": {},
   "outputs": [],
   "source": []
  }
 ],
 "metadata": {
  "kernelspec": {
   "display_name": "Python 3",
   "language": "python",
   "name": "python3"
  },
  "language_info": {
   "codemirror_mode": {
    "name": "ipython",
    "version": 3
   },
   "file_extension": ".py",
   "mimetype": "text/x-python",
   "name": "python",
   "nbconvert_exporter": "python",
   "pygments_lexer": "ipython3",
   "version": "3.8.5"
  }
 },
 "nbformat": 4,
 "nbformat_minor": 4
}
