{
 "cells": [
  {
   "cell_type": "code",
   "execution_count": 9,
   "metadata": {},
   "outputs": [
    {
     "name": "stdout",
     "output_type": "stream",
     "text": [
      "Unsorted Scores:\n",
      "[72, 45, 57, 76, 29, 40, 42, 77, 64, 91, 24, 92, 73, 78, 62, 27, 26, 67, 34, 20, 90, 75, 89, 98, 41, 37, 58]\n",
      "\n",
      "Sorted Scores:\n",
      "[20, 24, 26, 27, 29, 34, 37, 40, 41, 42, 45, 57, 58, 62, 64, 67, 72, 73, 75, 76, 77, 78, 89, 90, 91, 92, 98]\n"
     ]
    }
   ],
   "source": [
    "def mergesort(scores):\n",
    "    if len(scores)>1:\n",
    "        mid = len(scores)//2\n",
    "        lefthalf = scores[:mid]\n",
    "        righthalf = scores[mid:len(scores)]\n",
    "        mergesort(lefthalf)\n",
    "        mergesort(righthalf)\n",
    "        i,j,k = 0,0,0\n",
    "        while i < len(lefthalf) and j <len(righthalf):\n",
    "            if lefthalf[i] < righthalf[j]:\n",
    "                scores[k] = lefthalf[i]\n",
    "                i +=1\n",
    "            else:\n",
    "                scores[k] = righthalf[j]\n",
    "                j +=1\n",
    "            k += 1\n",
    "        while i < len(lefthalf):\n",
    "            scores[k] = lefthalf[i]\n",
    "            i += 1\n",
    "            k +=1\n",
    "        while j <len(righthalf):\n",
    "            scores[k] = righthalf[j]\n",
    "            j+=1\n",
    "            k+=1\n",
    "def Display(scores):\n",
    "    print(scores)\n",
    "Scores = [72,45,57,76,29,40,42,77,64,91,24,92,73,78,62,27,26,67,34,20,90,75,89,98,41,37,58]\n",
    "print(\"Unsorted Scores:\")\n",
    "Display(Scores)\n",
    "mergesort(Scores)\n",
    "print()\n",
    "print(\"Sorted Scores:\")\n",
    "Display(Scores)"
   ]
  },
  {
   "cell_type": "code",
   "execution_count": null,
   "metadata": {},
   "outputs": [],
   "source": []
  }
 ],
 "metadata": {
  "kernelspec": {
   "display_name": "Python 3",
   "language": "python",
   "name": "python3"
  },
  "language_info": {
   "codemirror_mode": {
    "name": "ipython",
    "version": 3
   },
   "file_extension": ".py",
   "mimetype": "text/x-python",
   "name": "python",
   "nbconvert_exporter": "python",
   "pygments_lexer": "ipython3",
   "version": "3.8.5"
  }
 },
 "nbformat": 4,
 "nbformat_minor": 4
}
