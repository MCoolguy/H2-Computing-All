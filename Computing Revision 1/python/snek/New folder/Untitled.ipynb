{
 "cells": [
  {
   "cell_type": "code",
   "execution_count": 24,
   "metadata": {},
   "outputs": [
    {
     "name": "stdout",
     "output_type": "stream",
     "text": [
      "5\n"
     ]
    }
   ],
   "source": [
    "def check_palindrome():\n",
    "    def is_palindrome(sequence):\n",
    "        testsequence =\"\"\n",
    "    \n",
    "        for i in range(len(sequence)):\n",
    "            if sequence[i].isdigit() or sequence[i].isalpha():\n",
    "                testsequence += sequence[i]\n",
    "    \n",
    "                   \n",
    "        if testsequence.lower() == testsequence[::-1].lower():\n",
    "            return True\n",
    "        else:\n",
    "            return False\n",
    "\n",
    "    file = open(\"palindrome.txt\",\"r\")\n",
    "    result = 0\n",
    "    lst = []\n",
    "    for line in file:\n",
    "        line = line.strip()\n",
    "        lst.append(line)\n",
    "\n",
    "    for i in lst:\n",
    "        if is_palindrome(i):\n",
    "            result +=1\n",
    "    return result\n",
    "    \n",
    "    \n",
    "print(check_palindrome())\n"
   ]
  },
  {
   "cell_type": "code",
   "execution_count": null,
   "metadata": {},
   "outputs": [],
   "source": []
  },
  {
   "cell_type": "code",
   "execution_count": null,
   "metadata": {},
   "outputs": [],
   "source": []
  }
 ],
 "metadata": {
  "kernelspec": {
   "display_name": "Python 3",
   "language": "python",
   "name": "python3"
  },
  "language_info": {
   "codemirror_mode": {
    "name": "ipython",
    "version": 3
   },
   "file_extension": ".py",
   "mimetype": "text/x-python",
   "name": "python",
   "nbconvert_exporter": "python",
   "pygments_lexer": "ipython3",
   "version": "3.8.5"
  }
 },
 "nbformat": 4,
 "nbformat_minor": 4
}
