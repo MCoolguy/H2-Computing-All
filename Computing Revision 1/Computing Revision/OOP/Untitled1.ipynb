{
 "cells": [
  {
   "cell_type": "code",
   "execution_count": null,
   "metadata": {},
   "outputs": [],
   "source": [
    "class Person:\n",
    "    def __init__(self):\n",
    "        self.__name = ''\n",
    "        self.__nric = ''\n",
    "    def getname(self):\n",
    "        return self.__name\n",
    "    def getnric(self):\n",
    "        return self.__nric\n",
    "    def setname(self,name)\n",
    "        self.name = name\n",
    "    def setnric(self,nric):\n",
    "        self.nric = nric\n",
    "        \n",
    "class Student(person):\n",
    "    def __init__(self):\n",
    "        super().__init__()\n",
    "        self.ctclass = ''\n",
    "        self.subjects = []\n",
    "    def getctclass(self):\n",
    "        return self.ctclass\n",
    "    def getsubjects(self):\n",
    "        return self.subjects\n",
    "    def setctclass(self,ctclass):\n",
    "        self.ctclass = ctclass\n",
    "    def addsubjects(self,subject):\n",
    "        self.subjects.append(subject)\n",
    "    def delsubjects(self,subject):\n",
    "        self.subjects.remove(subject)\n"
   ]
  },
  {
   "cell_type": "code",
   "execution_count": null,
   "metadata": {},
   "outputs": [],
   "source": []
  }
 ],
 "metadata": {
  "kernelspec": {
   "display_name": "Python 3",
   "language": "python",
   "name": "python3"
  },
  "language_info": {
   "codemirror_mode": {
    "name": "ipython",
    "version": 3
   },
   "file_extension": ".py",
   "mimetype": "text/x-python",
   "name": "python",
   "nbconvert_exporter": "python",
   "pygments_lexer": "ipython3",
   "version": "3.6.4"
  }
 },
 "nbformat": 4,
 "nbformat_minor": 2
}
