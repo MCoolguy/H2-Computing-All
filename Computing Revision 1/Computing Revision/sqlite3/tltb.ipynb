{
 "cells": [
  {
   "cell_type": "code",
   "execution_count": 7,
   "metadata": {},
   "outputs": [
    {
     "ename": "IndentationError",
     "evalue": "expected an indented block (<ipython-input-7-8471457866a1>, line 40)",
     "output_type": "error",
     "traceback": [
      "\u001b[1;36m  File \u001b[1;32m\"<ipython-input-7-8471457866a1>\"\u001b[1;36m, line \u001b[1;32m40\u001b[0m\n\u001b[1;33m    connection.commit()\u001b[0m\n\u001b[1;37m                       ^\u001b[0m\n\u001b[1;31mIndentationError\u001b[0m\u001b[1;31m:\u001b[0m expected an indented block\n"
     ]
    }
   ],
   "source": [
    "import sqlite3\n",
    "\n",
    "connection = sqlite3.connect(\"library.db\")\n",
    "connection.execute(\"DROP TABLE IF EXISTS Book\")\n",
    "connection.execute(\"CREATE TABLE Book\" + \"(ID INTEGER PRIMARY KEY, Title Text,PublisherID INTEGER)\")\n",
    "connection.execute(\"INSERT INTO Book(ID,Title,PublisherID)\"+\"VALUES(0,'Example Book 0', 0)\")\n",
    "connection.execute(\"INSERT INTO Book(ID,Title,PublisherID)\"+\"VALUES(1,'Example Book 1', 1)\")\n",
    "connection.execute(\"INSERT INTO Book(ID,Title,PublisherID)\"+\"VALUES(2,'Example Book 2', 2)\")\n",
    "connection.execute(\"INSERT INTO Book(ID,Title,PublisherID)\"+\"VALUES(3,'Example Book 3', 3)\")\n",
    "question=input(\"Enter 1 to add, 2 to delete\")\n",
    "if question == \"2\":\n",
    "    deleteID = input(\"enter ID of Book you want to delete \")\n",
    "    connection.execute(\"DELETE FROM Book WHERE ID=?\",(deleteID,))\n",
    "elif question ==\"1\":\n",
    "    newID = input(\"enter ID of Book you want to change\")\n",
    "    title = input(\"enter new title\")\n",
    "    connection.execute(\"UPDATE BOOK SET Title = ? WHERE ID=?\",(title,newID))\n",
    "else:\n",
    "    pass\n",
    "#cursor method    \n",
    "cursor = connection.execute(\"SELECT ID,Title,PublisherID FROM Book\")\n",
    "for item in cursor:\n",
    "    for field in item:\n",
    "        print(field)\n",
    "        \n",
    "#fethconemehtod\n",
    "cursor2=connection.execute(\"SELECT ID,Title,PublisherID FROM Book\")\n",
    "row = cursor2.fetchone()\n",
    "while row is not None:\n",
    "    for i in range(2):\n",
    "        print(row[i])\n",
    "    row = cursor2.fetchone()\n",
    "    \n",
    "    \n",
    "#fetchall\n",
    "cursor3=connection.execute(\"SELECT ID,Title,PublisherID FROM Book\")\n",
    "all_results = cursor3.fetchall()\n",
    "for item in all_results:\n",
    "    for rec in item:\n",
    "        print(rec)\n",
    "connection.commit()\n",
    "connection.close()"
   ]
  },
  {
   "cell_type": "code",
   "execution_count": 6,
   "metadata": {},
   "outputs": [
    {
     "name": "stdout",
     "output_type": "stream",
     "text": [
      "Enter 1 to add, 2 to delete1\n",
      "enter ID of Book you want to change1\n",
      "enter new titlebob\n"
     ]
    }
   ],
   "source": [
    "import sqlite3\n",
    "\n",
    "connection = sqlite3.connect(\"library2.db\")\n",
    "connection.execute(\"DROP TABLE IF EXISTS Book\")\n",
    "connection.execute(\"CREATE TABLE Book\" + \"(ID INTEGER PRIMARY KEY, Title Text,PublisherID INTEGER)\")\n",
    "connection.execute(\"INSERT INTO Book(ID,Title,PublisherID)\"+\"VALUES(0,'Example Book 0', 0)\")\n",
    "connection.execute(\"INSERT INTO Book(ID,Title,PublisherID)\"+\"VALUES(1,'Example Book 1', 1)\")\n",
    "connection.execute(\"INSERT INTO Book(ID,Title,PublisherID)\"+\"VALUES(2,'Example Book 2', 2)\")\n",
    "connection.execute(\"INSERT INTO Book(ID,Title,PublisherID)\"+\"VALUES(3,'Example Book 3', 3)\")\n",
    "question=input(\"Enter 1 to add, 2 to delete\")\n",
    "if question == \"2\":\n",
    "    deleteID = input(\"enter ID of Book you want to delete \")\n",
    "    connection.execute(\"DELETE FROM Book WHERE ID=?\",(deleteID,))\n",
    "elif question ==\"1\":\n",
    "    newID = input(\"enter ID of Book you want to change\")\n",
    "    title = input(\"enter new title\")\n",
    "    connection.execute(\"UPDATE BOOK SET Title = ? WHERE ID=?\",(title,newID))\n",
    "connection.commit()\n",
    "connection.close()"
   ]
  },
  {
   "cell_type": "code",
   "execution_count": null,
   "metadata": {},
   "outputs": [],
   "source": []
  },
  {
   "cell_type": "code",
   "execution_count": null,
   "metadata": {},
   "outputs": [],
   "source": []
  }
 ],
 "metadata": {
  "kernelspec": {
   "display_name": "Python 3",
   "language": "python",
   "name": "python3"
  }
 },
 "nbformat": 4,
 "nbformat_minor": 2
}
