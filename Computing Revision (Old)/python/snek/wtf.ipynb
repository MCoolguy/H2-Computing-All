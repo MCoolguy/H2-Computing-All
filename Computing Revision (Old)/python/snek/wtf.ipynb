{
 "metadata": {
  "language_info": {
   "codemirror_mode": {
    "name": "ipython",
    "version": 3
   },
   "file_extension": ".py",
   "mimetype": "text/x-python",
   "name": "python",
   "nbconvert_exporter": "python",
   "pygments_lexer": "ipython3",
   "version": "3.9.1-final"
  },
  "orig_nbformat": 2,
  "kernelspec": {
   "name": "python3",
   "display_name": "Python 3.9.1 64-bit",
   "metadata": {
    "interpreter": {
     "hash": "2647ea34e536f865ab67ff9ddee7fd78773d956cec0cab53c79b32cd10da5d83"
    }
   }
  }
 },
 "nbformat": 4,
 "nbformat_minor": 2,
 "cells": [
  {
   "cell_type": "code",
   "execution_count": 4,
   "metadata": {},
   "outputs": [
    {
     "output_type": "stream",
     "name": "stdout",
     "text": [
      "True\n"
     ]
    }
   ],
   "source": [
    "number = 63811836 #do not edit this integer\n",
    "result = None #boolean data type\n",
    "tempnumber = number\n",
    "reverse_num = 0 \n",
    "while(number > 0):\n",
    "    digit = number % 10\n",
    "    reverse_num = reverse_num*10 + digit\n",
    "    number = number//10\n",
    "\n",
    "if(tempnumber == reverse_num):\n",
    "   result = True\n",
    "else:\n",
    "    result = False\n",
    "\n",
    "print(result)"
   ]
  },
  {
   "cell_type": "code",
   "execution_count": 3,
   "metadata": {},
   "outputs": [
    {
     "output_type": "stream",
     "name": "stdout",
     "text": [
      "6381183\n"
     ]
    }
   ],
   "source": [
    "a = 63811836\n",
    "a = a//10\n",
    "print(a)\n"
   ]
  },
  {
   "cell_type": "code",
   "execution_count": 1,
   "metadata": {},
   "outputs": [
    {
     "output_type": "stream",
     "name": "stdout",
     "text": [
      "63811836\n"
     ]
    }
   ],
   "source": [
    "number = 63811836 #do not edit this integer\n",
    "result = None #boolean data type\n",
    "tempnumber = number\n",
    "reverse_num = 0 \n",
    "while(number > 0):\n",
    "    digit = number % 10\n",
    "    reverse_num = reverse_num*10 + digit\n",
    "    number = number//10\n",
    "\n",
    "print(reverse_num)"
   ]
  },
  {
   "cell_type": "code",
   "execution_count": null,
   "metadata": {},
   "outputs": [],
   "source": []
  }
 ]
}