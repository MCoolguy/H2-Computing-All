{
 "cells": [
  {
   "cell_type": "code",
   "execution_count": 21,
   "metadata": {},
   "outputs": [
    {
     "name": "stdout",
     "output_type": "stream",
     "text": [
      "[0, 1, 1, 2, 2, 3, 3, 4, 4, 4, 5, 5, 6, 7, 7, 8, 8, 9, 9]\n"
     ]
    }
   ],
   "source": [
    "def Merge_Sort(arr):\n",
    "    n = len(arr)\n",
    "    if n <2:\n",
    "        return arr\n",
    "    left = Merge_Sort(arr[:n//2])\n",
    "    right = Merge_Sort(arr[n//2:])\n",
    "    return Merge(left,right)\n",
    "\n",
    "def Merge(left,right):\n",
    "        results =  [0] *(len(left) + len(right))\n",
    "        i, j, index = 0, 0, 0\n",
    "        while i < len(left) and j < len(right):\n",
    "            if left[i] < right[j]:\n",
    "                results[index] = left[i]\n",
    "                i = i + 1\n",
    "            else:\n",
    "                results[index] = right[j]\n",
    "                j = j + 1\n",
    "            index = index + 1\n",
    "                \n",
    "        while i <len(left):\n",
    "            results[index] = left[i]\n",
    "            i = i +1\n",
    "            index = index +1\n",
    "        while j<len(right):\n",
    "            results[index]=right[j]\n",
    "            j = j +1\n",
    "            index = index +1 \n",
    "        return results\n",
    " \n",
    "arr = [7,3,5,8,1,2,8,4,5,9,3,4,1,2,7,9,6,4,0]\n",
    "print(Merge_Sort(arr)) \n",
    "    "
   ]
  },
  {
   "cell_type": "code",
   "execution_count": 9,
   "metadata": {},
   "outputs": [
    {
     "name": "stdout",
     "output_type": "stream",
     "text": [
      "[0, 1, 1, 2, 2, 3, 3, 4, 4, 4, 5, 5, 6, 7, 7, 8, 8, 9, 9]\n"
     ]
    }
   ],
   "source": [
    "def bubblesort(array):\n",
    "    n = len(array)\n",
    "    for i in range(n-1):\n",
    "        for j in range(n-i-1):\n",
    "            if array[j]>array[j+1]:\n",
    "                array[j],array[j+1] = array[j+1], array[j]\n",
    "    return array\n",
    "                \n",
    "arr = [7,3,5,8,1,2,8,4,5,9,3,4,1,2,7,9,6,4,0]\n",
    "print(bubblesort(arr))"
   ]
  },
  {
   "cell_type": "code",
   "execution_count": 11,
   "metadata": {},
   "outputs": [
    {
     "name": "stdout",
     "output_type": "stream",
     "text": [
      "[0, 1, 1, 2, 2, 3, 3, 4, 4, 4, 5, 5, 6, 7, 7, 8, 8, 9, 9]\n"
     ]
    }
   ],
   "source": [
    "def insertionsort(array):\n",
    "    for i in range(1,len(array)):\n",
    "        key = array[i]\n",
    "        j = i -1\n",
    "        while j >= 0 and key<array[j]:\n",
    "            array[j+1] = array[j]\n",
    "            j -=1\n",
    "        array[j+1] = key  \n",
    "    return array\n",
    "\n",
    "arr = [7,3,5,8,1,2,8,4,5,9,3,4,1,2,7,9,6,4,0]\n",
    "print(insertionsort(arr))\n",
    "        "
   ]
  },
  {
   "cell_type": "code",
   "execution_count": 17,
   "metadata": {},
   "outputs": [
    {
     "name": "stdout",
     "output_type": "stream",
     "text": [
      "[0, 1, 1, 2, 2, 3, 3, 4, 4, 4, 5, 5, 6, 7, 7, 8, 8, 9, 9]\n"
     ]
    }
   ],
   "source": [
    "def quicksort(array,first,last):\n",
    "    low = first\n",
    "    high = last\n",
    "    list_seperator = array[int((first+last)/2)]\n",
    "    while low<=high:\n",
    "        while array[low]<list_seperator:\n",
    "            low +=1\n",
    "        while array[high]>list_seperator:\n",
    "            high -=1\n",
    "        if low<=high:\n",
    "            array[low],array[high] = array[high],array[low]\n",
    "            low +=1\n",
    "            high -=1\n",
    "    if first<high:\n",
    "        quicksort(array,first,high)\n",
    "    if low<last:\n",
    "        quicksort(array,low,last)\n",
    "    return array\n",
    "\n",
    "arr = [7,3,5,8,1,2,8,4,5,9,3,4,1,2,7,9,6,4,0]\n",
    "print(quicksort(arr,0,18))\n",
    "        \n",
    "    "
   ]
  },
  {
   "cell_type": "code",
   "execution_count": 28,
   "metadata": {},
   "outputs": [
    {
     "name": "stdout",
     "output_type": "stream",
     "text": [
      "[0, 1, 1, 2, 2, 3, 3, 4, 4, 4, 5, 5, 6, 7, 7, 8, 8, 9, 9]\n"
     ]
    }
   ],
   "source": [
    "def mergesort(ar,low,high):\n",
    "    if low>= high:\n",
    "        return ar\n",
    "    mid = int((low+high)/2)\n",
    "    ar = mergesort(ar,low,mid)\n",
    "    ar = mergesort(ar,mid+1,high)\n",
    "    ar = merge(ar,low,mid,high)\n",
    "    return merge(ar,low,mid,high)\n",
    "\n",
    "def merge(ar,low,mid,high):\n",
    "    lp,rp = low,mid+1\n",
    "    while lp<=mid and rp<=high:\n",
    "        if ar[rp]<ar[lp]:\n",
    "            ar  = ar[:lp]+[ar[rp]]+ar[lp:rp]+ar[rp+1:]\n",
    "            rp,mid = rp +1, mid +1\n",
    "        lp +=1\n",
    "    return ar\n",
    "\n",
    "arr = [7,3,5,8,1,2,8,4,5,9,3,4,1,2,7,9,6,4,0]\n",
    "print(mergesort(arr,0,18))\n",
    "        \n",
    "\n",
    "    \n",
    "    "
   ]
  },
  {
   "cell_type": "code",
   "execution_count": null,
   "metadata": {},
   "outputs": [],
   "source": []
  }
 ],
 "metadata": {
  "kernelspec": {
   "display_name": "Python 3",
   "language": "python",
   "name": "python3"
  },
  "language_info": {
   "codemirror_mode": {
    "name": "ipython",
    "version": 3
   },
   "file_extension": ".py",
   "mimetype": "text/x-python",
   "name": "python",
   "nbconvert_exporter": "python",
   "pygments_lexer": "ipython3",
   "version": "3.8.5"
  }
 },
 "nbformat": 4,
 "nbformat_minor": 4
}
