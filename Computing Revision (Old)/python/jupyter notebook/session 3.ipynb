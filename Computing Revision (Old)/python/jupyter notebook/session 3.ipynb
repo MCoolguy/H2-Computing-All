{
 "cells": [
  {
   "cell_type": "code",
   "execution_count": 11,
   "metadata": {},
   "outputs": [
    {
     "name": "stdout",
     "output_type": "stream",
     "text": [
      "[0, 1, 1, 2, 2, 3, 3, 4, 4, 4, 5, 5, 6, 7, 7, 8, 8, 9, 9]\n"
     ]
    }
   ],
   "source": [
    "def bubblesort(arr,n):\n",
    "    if n <2:\n",
    "        return arr\n",
    "    for i in range(0,n-1):\n",
    "        if arr[i]>arr[i+1]:\n",
    "            temp = arr[i]\n",
    "            arr[i]= arr[i+1]\n",
    "            arr[i+1] = temp\n",
    "    return bubblesort(arr,n-1)\n",
    "\n",
    "arr = [7,3,5,8,1,2,8,4,5,9,3,4,1,2,7,9,6,4,0]\n",
    "print(bubblesort(arr,len(arr)))\n",
    "        \n",
    "    "
   ]
  },
  {
   "cell_type": "code",
   "execution_count": 14,
   "metadata": {},
   "outputs": [
    {
     "name": "stdout",
     "output_type": "stream",
     "text": [
      "28\n"
     ]
    }
   ],
   "source": [
    "def Bubble_Recursive(arr,n):\n",
    "    count = 0\n",
    "    if n <2:\n",
    "        return count\n",
    "    for i in range(0,n-1):\n",
    "        if arr[i]>arr[i+1]:\n",
    "            temp = arr[i]\n",
    "            arr[i]= arr[i+1]\n",
    "            arr[i+1] = temp\n",
    "        count += 1\n",
    "    return count  + Bubble_Recursive(arr,n-1)\n",
    "\n",
    "\n",
    "lst1 = [1, 15, 2, 4, 3, 9, 7, 10]\n",
    "lst2 = [1, 15, 2, 4, 3, 9, 7, 10, 13, 5, 20]\n",
    "c1 = Bubble_Recursive(lst1, len(lst1))\n",
    "c2 = Bubble_Recursive(lst2, len(lst2))\n",
    "print(c1)"
   ]
  },
  {
   "cell_type": "code",
   "execution_count": null,
   "metadata": {},
   "outputs": [],
   "source": []
  }
 ],
 "metadata": {
  "kernelspec": {
   "display_name": "Python 3",
   "language": "python",
   "name": "python3"
  },
  "language_info": {
   "codemirror_mode": {
    "name": "ipython",
    "version": 3
   },
   "file_extension": ".py",
   "mimetype": "text/x-python",
   "name": "python",
   "nbconvert_exporter": "python",
   "pygments_lexer": "ipython3",
   "version": "3.8.5"
  }
 },
 "nbformat": 4,
 "nbformat_minor": 4
}
