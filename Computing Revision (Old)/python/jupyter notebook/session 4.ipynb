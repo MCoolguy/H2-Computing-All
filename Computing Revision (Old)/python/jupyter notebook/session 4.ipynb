{
 "cells": [
  {
   "cell_type": "code",
   "execution_count": 4,
   "metadata": {},
   "outputs": [
    {
     "name": "stdout",
     "output_type": "stream",
     "text": [
      "enter your id: 1\\\n",
      "wrong format \n",
      "enter your id: 2015_1234\n",
      "valid id\n"
     ]
    }
   ],
   "source": [
    "def validateuserid(thisuserid):\n",
    "    if len(thisuserid)==9 and thisuserid[0:5]==\"2015_\" and thisuserid[6:].isdigit():\n",
    "        return 0 \n",
    "    elif thisuserid[0:5]==\"2015_\" and thisuserid[6:].isdigit() and len(thisuserid)!=9:\n",
    "        return 1\n",
    "    else:\n",
    "        return 2\n",
    "    \n",
    "id = input(\"enter your id: \")\n",
    "while validateuserid(id)!= 0:\n",
    "    if validateuserid(id) ==1:\n",
    "        print(\"not 9 characters\")\n",
    "        id = input(\"enter your id: \")\n",
    "    else:\n",
    "        print(\"wrong format \")\n",
    "        id = input(\"enter your id: \")\n",
    "print(\"valid id\")\n",
    "        \n",
    "\n",
    "\n",
    "    "
   ]
  },
  {
   "cell_type": "code",
   "execution_count": null,
   "metadata": {},
   "outputs": [],
   "source": []
  }
 ],
 "metadata": {
  "kernelspec": {
   "display_name": "Python 3",
   "language": "python",
   "name": "python3"
  },
  "language_info": {
   "codemirror_mode": {
    "name": "ipython",
    "version": 3
   },
   "file_extension": ".py",
   "mimetype": "text/x-python",
   "name": "python",
   "nbconvert_exporter": "python",
   "pygments_lexer": "ipython3",
   "version": "3.8.5"
  }
 },
 "nbformat": 4,
 "nbformat_minor": 4
}
